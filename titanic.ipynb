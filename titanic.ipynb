{
 "cells": [
  {
   "cell_type": "markdown",
   "metadata": {},
   "source": [
    "   # **TITANIC : MACHINE LEARNING FROM DISASTER**"
   ]
  },
  {
   "cell_type": "markdown",
   "metadata": {},
   "source": [
    "![Alt Text](http://www.slate.com/content/dam/slate/articles/health_and_science/new_scientist/2012/08/120803_NSCI_titanicEX.jpg.CROP.rectangle3-large.jpg)\n"
   ]
  },
  {
   "cell_type": "markdown",
   "metadata": {
    "_cell_guid": "98855ef9-e4c5-4abe-99ae-2735216530ca",
    "_uuid": "ad8c81e83ff1f0795fa653647925aa04d75cccc0"
   },
   "source": [
    "\n",
    "\n",
    "*Hello and welcome to my notebook on the Titanic challenge from Kaggle ! This is a personal project and part of my training so it might not be perfect and could be improved. I tried to make it as comprehensible as possible and tutorial like so a non-technical person could understand it.*\n",
    "\n",
    "## THE CHALLENGE \n",
    "\n",
    "Kaggle is a website that provides data sets to use for people who want to practice their data science skills. It also proposes challenges with a ranking and sometimes prices. This one is the Titanic challenge : Kaggle gives us a data set filled with people who were on the Titanic and their different caracteristics and if they survived or not. The goal is to predict the survival of a new person given his caracteristics and to have the best accuracy.\n",
    "\n",
    "In this notebook we will : \n",
    "- Perform a quick exploratory data analysis on the data set in order to understand our parameters and how they relate to each other.\n",
    "- Clean, reshape and create new features that we are going to feed to our models.\n",
    "- Chose a predictive model, find the best parameters and evaluate it\n",
    "\n",
    "I hope you will enjoy reading it as much as I did making it ! \n",
    "\n",
    "## EXPLORATORY DATA ANALYSIS (EDA)\n",
    "\n",
    "\n",
    "### **1) Import Data**\n",
    "\n",
    "Getting the data in the first place is a big challenge for data scientists. Luckily, Kaggle gives us a nice data set to use for the competition so we are just going to import the CSV file using pandas.\n",
    "\n",
    "From Kaggle we get 2 data sets : \"train\" and \"test\". The test set is there only to validate our predictive model at the end of the study but we are going to import it at the same time so it's done.\n"
   ]
  },
  {
   "cell_type": "code",
   "execution_count": 1,
   "metadata": {
    "_cell_guid": "ece46aec-c3b8-4ab4-92da-0cf4c06b7e31",
    "_uuid": "34616fd30c7ade8c3289d3421c06557492eb6382",
    "collapsed": true
   },
   "outputs": [],
   "source": [
    "import pandas as pd \n",
    "import numpy as np\n",
    "\n",
    "train = pd.read_csv(\"C:\\\\Users\\\\Brian\\\\Documents\\\\cours\\\\train.csv\")\n",
    "test = pd.read_csv(\"C:\\\\Users\\\\Brian\\\\Documents\\\\cours\\\\test.csv\")\n"
   ]
  },
  {
   "cell_type": "markdown",
   "metadata": {
    "_cell_guid": "832383b8-2f0c-463f-9d3f-54d5d632597a",
    "_uuid": "fac338b9a666c065056e42a3053e93ed63af64e0"
   },
   "source": [
    "Usually the first thing we want to do is have a quick glance at our data. For this we have the attribute pd.shape and 2 basic methods : pd.head() and pd.describe()"
   ]
  },
  {
   "cell_type": "code",
   "execution_count": 2,
   "metadata": {
    "_cell_guid": "b0db53cc-bdaf-4551-a244-4ed5622a4b69",
    "_uuid": "91d10aa5b16044374e30cc280f6e6d2a0d8a8810"
   },
   "outputs": [
    {
     "data": {
      "text/plain": [
       "(891, 12)"
      ]
     },
     "execution_count": 2,
     "metadata": {},
     "output_type": "execute_result"
    }
   ],
   "source": [
    "train.shape "
   ]
  },
  {
   "cell_type": "code",
   "execution_count": 3,
   "metadata": {
    "_cell_guid": "8bcd2145-3b02-4b6b-b96c-e469c1f107f9",
    "_uuid": "d99fcdb0eabd4d1d18b6c2237af02100088964a7"
   },
   "outputs": [
    {
     "data": {
      "text/html": [
       "<div>\n",
       "<style>\n",
       "    .dataframe thead tr:only-child th {\n",
       "        text-align: right;\n",
       "    }\n",
       "\n",
       "    .dataframe thead th {\n",
       "        text-align: left;\n",
       "    }\n",
       "\n",
       "    .dataframe tbody tr th {\n",
       "        vertical-align: top;\n",
       "    }\n",
       "</style>\n",
       "<table border=\"1\" class=\"dataframe\">\n",
       "  <thead>\n",
       "    <tr style=\"text-align: right;\">\n",
       "      <th></th>\n",
       "      <th>PassengerId</th>\n",
       "      <th>Survived</th>\n",
       "      <th>Pclass</th>\n",
       "      <th>Name</th>\n",
       "      <th>Sex</th>\n",
       "      <th>Age</th>\n",
       "      <th>SibSp</th>\n",
       "      <th>Parch</th>\n",
       "      <th>Ticket</th>\n",
       "      <th>Fare</th>\n",
       "      <th>Cabin</th>\n",
       "      <th>Embarked</th>\n",
       "    </tr>\n",
       "  </thead>\n",
       "  <tbody>\n",
       "    <tr>\n",
       "      <th>0</th>\n",
       "      <td>1</td>\n",
       "      <td>0</td>\n",
       "      <td>3</td>\n",
       "      <td>Braund, Mr. Owen Harris</td>\n",
       "      <td>male</td>\n",
       "      <td>22.0</td>\n",
       "      <td>1</td>\n",
       "      <td>0</td>\n",
       "      <td>A/5 21171</td>\n",
       "      <td>7.2500</td>\n",
       "      <td>NaN</td>\n",
       "      <td>S</td>\n",
       "    </tr>\n",
       "    <tr>\n",
       "      <th>1</th>\n",
       "      <td>2</td>\n",
       "      <td>1</td>\n",
       "      <td>1</td>\n",
       "      <td>Cumings, Mrs. John Bradley (Florence Briggs Th...</td>\n",
       "      <td>female</td>\n",
       "      <td>38.0</td>\n",
       "      <td>1</td>\n",
       "      <td>0</td>\n",
       "      <td>PC 17599</td>\n",
       "      <td>71.2833</td>\n",
       "      <td>C85</td>\n",
       "      <td>C</td>\n",
       "    </tr>\n",
       "    <tr>\n",
       "      <th>2</th>\n",
       "      <td>3</td>\n",
       "      <td>1</td>\n",
       "      <td>3</td>\n",
       "      <td>Heikkinen, Miss. Laina</td>\n",
       "      <td>female</td>\n",
       "      <td>26.0</td>\n",
       "      <td>0</td>\n",
       "      <td>0</td>\n",
       "      <td>STON/O2. 3101282</td>\n",
       "      <td>7.9250</td>\n",
       "      <td>NaN</td>\n",
       "      <td>S</td>\n",
       "    </tr>\n",
       "    <tr>\n",
       "      <th>3</th>\n",
       "      <td>4</td>\n",
       "      <td>1</td>\n",
       "      <td>1</td>\n",
       "      <td>Futrelle, Mrs. Jacques Heath (Lily May Peel)</td>\n",
       "      <td>female</td>\n",
       "      <td>35.0</td>\n",
       "      <td>1</td>\n",
       "      <td>0</td>\n",
       "      <td>113803</td>\n",
       "      <td>53.1000</td>\n",
       "      <td>C123</td>\n",
       "      <td>S</td>\n",
       "    </tr>\n",
       "    <tr>\n",
       "      <th>4</th>\n",
       "      <td>5</td>\n",
       "      <td>0</td>\n",
       "      <td>3</td>\n",
       "      <td>Allen, Mr. William Henry</td>\n",
       "      <td>male</td>\n",
       "      <td>35.0</td>\n",
       "      <td>0</td>\n",
       "      <td>0</td>\n",
       "      <td>373450</td>\n",
       "      <td>8.0500</td>\n",
       "      <td>NaN</td>\n",
       "      <td>S</td>\n",
       "    </tr>\n",
       "  </tbody>\n",
       "</table>\n",
       "</div>"
      ],
      "text/plain": [
       "   PassengerId  Survived  Pclass  \\\n",
       "0            1         0       3   \n",
       "1            2         1       1   \n",
       "2            3         1       3   \n",
       "3            4         1       1   \n",
       "4            5         0       3   \n",
       "\n",
       "                                                Name     Sex   Age  SibSp  \\\n",
       "0                            Braund, Mr. Owen Harris    male  22.0      1   \n",
       "1  Cumings, Mrs. John Bradley (Florence Briggs Th...  female  38.0      1   \n",
       "2                             Heikkinen, Miss. Laina  female  26.0      0   \n",
       "3       Futrelle, Mrs. Jacques Heath (Lily May Peel)  female  35.0      1   \n",
       "4                           Allen, Mr. William Henry    male  35.0      0   \n",
       "\n",
       "   Parch            Ticket     Fare Cabin Embarked  \n",
       "0      0         A/5 21171   7.2500   NaN        S  \n",
       "1      0          PC 17599  71.2833   C85        C  \n",
       "2      0  STON/O2. 3101282   7.9250   NaN        S  \n",
       "3      0            113803  53.1000  C123        S  \n",
       "4      0            373450   8.0500   NaN        S  "
      ]
     },
     "execution_count": 3,
     "metadata": {},
     "output_type": "execute_result"
    }
   ],
   "source": [
    "train.head() # return 5 first rows"
   ]
  },
  {
   "cell_type": "code",
   "execution_count": 4,
   "metadata": {
    "_cell_guid": "c1307804-47a3-4ad0-b874-342a89382272",
    "_uuid": "0d3681ed5a0fd5cca3130d5e413d39dd141195c0"
   },
   "outputs": [
    {
     "data": {
      "text/html": [
       "<div>\n",
       "<style>\n",
       "    .dataframe thead tr:only-child th {\n",
       "        text-align: right;\n",
       "    }\n",
       "\n",
       "    .dataframe thead th {\n",
       "        text-align: left;\n",
       "    }\n",
       "\n",
       "    .dataframe tbody tr th {\n",
       "        vertical-align: top;\n",
       "    }\n",
       "</style>\n",
       "<table border=\"1\" class=\"dataframe\">\n",
       "  <thead>\n",
       "    <tr style=\"text-align: right;\">\n",
       "      <th></th>\n",
       "      <th>PassengerId</th>\n",
       "      <th>Survived</th>\n",
       "      <th>Pclass</th>\n",
       "      <th>Name</th>\n",
       "      <th>Sex</th>\n",
       "      <th>Age</th>\n",
       "      <th>SibSp</th>\n",
       "      <th>Parch</th>\n",
       "      <th>Ticket</th>\n",
       "      <th>Fare</th>\n",
       "      <th>Cabin</th>\n",
       "      <th>Embarked</th>\n",
       "    </tr>\n",
       "  </thead>\n",
       "  <tbody>\n",
       "    <tr>\n",
       "      <th>count</th>\n",
       "      <td>891.000000</td>\n",
       "      <td>891.000000</td>\n",
       "      <td>891.000000</td>\n",
       "      <td>891</td>\n",
       "      <td>891</td>\n",
       "      <td>714.000000</td>\n",
       "      <td>891.000000</td>\n",
       "      <td>891.000000</td>\n",
       "      <td>891</td>\n",
       "      <td>891.000000</td>\n",
       "      <td>204</td>\n",
       "      <td>889</td>\n",
       "    </tr>\n",
       "    <tr>\n",
       "      <th>unique</th>\n",
       "      <td>NaN</td>\n",
       "      <td>NaN</td>\n",
       "      <td>NaN</td>\n",
       "      <td>891</td>\n",
       "      <td>2</td>\n",
       "      <td>NaN</td>\n",
       "      <td>NaN</td>\n",
       "      <td>NaN</td>\n",
       "      <td>681</td>\n",
       "      <td>NaN</td>\n",
       "      <td>147</td>\n",
       "      <td>3</td>\n",
       "    </tr>\n",
       "    <tr>\n",
       "      <th>top</th>\n",
       "      <td>NaN</td>\n",
       "      <td>NaN</td>\n",
       "      <td>NaN</td>\n",
       "      <td>Carter, Miss. Lucile Polk</td>\n",
       "      <td>male</td>\n",
       "      <td>NaN</td>\n",
       "      <td>NaN</td>\n",
       "      <td>NaN</td>\n",
       "      <td>1601</td>\n",
       "      <td>NaN</td>\n",
       "      <td>C23 C25 C27</td>\n",
       "      <td>S</td>\n",
       "    </tr>\n",
       "    <tr>\n",
       "      <th>freq</th>\n",
       "      <td>NaN</td>\n",
       "      <td>NaN</td>\n",
       "      <td>NaN</td>\n",
       "      <td>1</td>\n",
       "      <td>577</td>\n",
       "      <td>NaN</td>\n",
       "      <td>NaN</td>\n",
       "      <td>NaN</td>\n",
       "      <td>7</td>\n",
       "      <td>NaN</td>\n",
       "      <td>4</td>\n",
       "      <td>644</td>\n",
       "    </tr>\n",
       "    <tr>\n",
       "      <th>mean</th>\n",
       "      <td>446.000000</td>\n",
       "      <td>0.383838</td>\n",
       "      <td>2.308642</td>\n",
       "      <td>NaN</td>\n",
       "      <td>NaN</td>\n",
       "      <td>29.699118</td>\n",
       "      <td>0.523008</td>\n",
       "      <td>0.381594</td>\n",
       "      <td>NaN</td>\n",
       "      <td>32.204208</td>\n",
       "      <td>NaN</td>\n",
       "      <td>NaN</td>\n",
       "    </tr>\n",
       "    <tr>\n",
       "      <th>std</th>\n",
       "      <td>257.353842</td>\n",
       "      <td>0.486592</td>\n",
       "      <td>0.836071</td>\n",
       "      <td>NaN</td>\n",
       "      <td>NaN</td>\n",
       "      <td>14.526497</td>\n",
       "      <td>1.102743</td>\n",
       "      <td>0.806057</td>\n",
       "      <td>NaN</td>\n",
       "      <td>49.693429</td>\n",
       "      <td>NaN</td>\n",
       "      <td>NaN</td>\n",
       "    </tr>\n",
       "    <tr>\n",
       "      <th>min</th>\n",
       "      <td>1.000000</td>\n",
       "      <td>0.000000</td>\n",
       "      <td>1.000000</td>\n",
       "      <td>NaN</td>\n",
       "      <td>NaN</td>\n",
       "      <td>0.420000</td>\n",
       "      <td>0.000000</td>\n",
       "      <td>0.000000</td>\n",
       "      <td>NaN</td>\n",
       "      <td>0.000000</td>\n",
       "      <td>NaN</td>\n",
       "      <td>NaN</td>\n",
       "    </tr>\n",
       "    <tr>\n",
       "      <th>25%</th>\n",
       "      <td>223.500000</td>\n",
       "      <td>0.000000</td>\n",
       "      <td>2.000000</td>\n",
       "      <td>NaN</td>\n",
       "      <td>NaN</td>\n",
       "      <td>20.125000</td>\n",
       "      <td>0.000000</td>\n",
       "      <td>0.000000</td>\n",
       "      <td>NaN</td>\n",
       "      <td>7.910400</td>\n",
       "      <td>NaN</td>\n",
       "      <td>NaN</td>\n",
       "    </tr>\n",
       "    <tr>\n",
       "      <th>50%</th>\n",
       "      <td>446.000000</td>\n",
       "      <td>0.000000</td>\n",
       "      <td>3.000000</td>\n",
       "      <td>NaN</td>\n",
       "      <td>NaN</td>\n",
       "      <td>28.000000</td>\n",
       "      <td>0.000000</td>\n",
       "      <td>0.000000</td>\n",
       "      <td>NaN</td>\n",
       "      <td>14.454200</td>\n",
       "      <td>NaN</td>\n",
       "      <td>NaN</td>\n",
       "    </tr>\n",
       "    <tr>\n",
       "      <th>75%</th>\n",
       "      <td>668.500000</td>\n",
       "      <td>1.000000</td>\n",
       "      <td>3.000000</td>\n",
       "      <td>NaN</td>\n",
       "      <td>NaN</td>\n",
       "      <td>38.000000</td>\n",
       "      <td>1.000000</td>\n",
       "      <td>0.000000</td>\n",
       "      <td>NaN</td>\n",
       "      <td>31.000000</td>\n",
       "      <td>NaN</td>\n",
       "      <td>NaN</td>\n",
       "    </tr>\n",
       "    <tr>\n",
       "      <th>max</th>\n",
       "      <td>891.000000</td>\n",
       "      <td>1.000000</td>\n",
       "      <td>3.000000</td>\n",
       "      <td>NaN</td>\n",
       "      <td>NaN</td>\n",
       "      <td>80.000000</td>\n",
       "      <td>8.000000</td>\n",
       "      <td>6.000000</td>\n",
       "      <td>NaN</td>\n",
       "      <td>512.329200</td>\n",
       "      <td>NaN</td>\n",
       "      <td>NaN</td>\n",
       "    </tr>\n",
       "  </tbody>\n",
       "</table>\n",
       "</div>"
      ],
      "text/plain": [
       "        PassengerId    Survived      Pclass                       Name   Sex  \\\n",
       "count    891.000000  891.000000  891.000000                        891   891   \n",
       "unique          NaN         NaN         NaN                        891     2   \n",
       "top             NaN         NaN         NaN  Carter, Miss. Lucile Polk  male   \n",
       "freq            NaN         NaN         NaN                          1   577   \n",
       "mean     446.000000    0.383838    2.308642                        NaN   NaN   \n",
       "std      257.353842    0.486592    0.836071                        NaN   NaN   \n",
       "min        1.000000    0.000000    1.000000                        NaN   NaN   \n",
       "25%      223.500000    0.000000    2.000000                        NaN   NaN   \n",
       "50%      446.000000    0.000000    3.000000                        NaN   NaN   \n",
       "75%      668.500000    1.000000    3.000000                        NaN   NaN   \n",
       "max      891.000000    1.000000    3.000000                        NaN   NaN   \n",
       "\n",
       "               Age       SibSp       Parch Ticket        Fare        Cabin  \\\n",
       "count   714.000000  891.000000  891.000000    891  891.000000          204   \n",
       "unique         NaN         NaN         NaN    681         NaN          147   \n",
       "top            NaN         NaN         NaN   1601         NaN  C23 C25 C27   \n",
       "freq           NaN         NaN         NaN      7         NaN            4   \n",
       "mean     29.699118    0.523008    0.381594    NaN   32.204208          NaN   \n",
       "std      14.526497    1.102743    0.806057    NaN   49.693429          NaN   \n",
       "min       0.420000    0.000000    0.000000    NaN    0.000000          NaN   \n",
       "25%      20.125000    0.000000    0.000000    NaN    7.910400          NaN   \n",
       "50%      28.000000    0.000000    0.000000    NaN   14.454200          NaN   \n",
       "75%      38.000000    1.000000    0.000000    NaN   31.000000          NaN   \n",
       "max      80.000000    8.000000    6.000000    NaN  512.329200          NaN   \n",
       "\n",
       "       Embarked  \n",
       "count       889  \n",
       "unique        3  \n",
       "top           S  \n",
       "freq        644  \n",
       "mean        NaN  \n",
       "std         NaN  \n",
       "min         NaN  \n",
       "25%         NaN  \n",
       "50%         NaN  \n",
       "75%         NaN  \n",
       "max         NaN  "
      ]
     },
     "execution_count": 4,
     "metadata": {},
     "output_type": "execute_result"
    }
   ],
   "source": [
    "train.describe(include = 'all') ## pro tip : add \"include = \"all\"\" to show the non numerical columns"
   ]
  },
  {
   "cell_type": "markdown",
   "metadata": {
    "_cell_guid": "c588df76-3533-46e8-a727-97beb2cbb069",
    "_uuid": "3a51a76469dcfc47f80d926e5978549f2cedf5ba"
   },
   "source": [
    "Alright our data set has 891 rows and 12 columns (=caracteristic, =parameter) :\n",
    "\n",
    "* PassengerId\n",
    "* Survived \n",
    "* Pclass: the passenger class. It has three possible values: 1,2,3\n",
    "* The Name\n",
    "* The Sex\n",
    "* The Age\n",
    "* SibSp: number of siblings and spouses traveling with the passenger\n",
    "* Parch: number of parents and children traveling with the passenger\n",
    "* The ticket number\n",
    "* The ticket Fare\n",
    "* The cabin number\n",
    "* The embarkation. It has three possible values S,C,Q\n",
    "\n",
    "We can see that we have only 204 out of 891 values for Cabin, that's not enough to take into consideration so we are going to drop this feature. Also, we can see from train.head() that the ticket number and PassengerId features seem useless so we're going to delete them aswell. \n",
    "\n",
    "We also have missing values for Age. In this quick EDA we're just going to drop the rows with a NaN value using pd.dropna()."
   ]
  },
  {
   "cell_type": "code",
   "execution_count": 5,
   "metadata": {
    "_cell_guid": "66599c0b-1c06-4f8c-8bdc-3f0ba39091d6",
    "_uuid": "592a1fad68011f3d056168aa5c645f5833c8b426"
   },
   "outputs": [
    {
     "data": {
      "text/html": [
       "<div>\n",
       "<style>\n",
       "    .dataframe thead tr:only-child th {\n",
       "        text-align: right;\n",
       "    }\n",
       "\n",
       "    .dataframe thead th {\n",
       "        text-align: left;\n",
       "    }\n",
       "\n",
       "    .dataframe tbody tr th {\n",
       "        vertical-align: top;\n",
       "    }\n",
       "</style>\n",
       "<table border=\"1\" class=\"dataframe\">\n",
       "  <thead>\n",
       "    <tr style=\"text-align: right;\">\n",
       "      <th></th>\n",
       "      <th>Survived</th>\n",
       "      <th>Pclass</th>\n",
       "      <th>Name</th>\n",
       "      <th>Sex</th>\n",
       "      <th>Age</th>\n",
       "      <th>SibSp</th>\n",
       "      <th>Parch</th>\n",
       "      <th>Fare</th>\n",
       "      <th>Embarked</th>\n",
       "    </tr>\n",
       "  </thead>\n",
       "  <tbody>\n",
       "    <tr>\n",
       "      <th>0</th>\n",
       "      <td>0</td>\n",
       "      <td>3</td>\n",
       "      <td>Braund, Mr. Owen Harris</td>\n",
       "      <td>1</td>\n",
       "      <td>22.0</td>\n",
       "      <td>1</td>\n",
       "      <td>0</td>\n",
       "      <td>7.2500</td>\n",
       "      <td>S</td>\n",
       "    </tr>\n",
       "    <tr>\n",
       "      <th>1</th>\n",
       "      <td>1</td>\n",
       "      <td>1</td>\n",
       "      <td>Cumings, Mrs. John Bradley (Florence Briggs Th...</td>\n",
       "      <td>0</td>\n",
       "      <td>38.0</td>\n",
       "      <td>1</td>\n",
       "      <td>0</td>\n",
       "      <td>71.2833</td>\n",
       "      <td>C</td>\n",
       "    </tr>\n",
       "    <tr>\n",
       "      <th>2</th>\n",
       "      <td>1</td>\n",
       "      <td>3</td>\n",
       "      <td>Heikkinen, Miss. Laina</td>\n",
       "      <td>0</td>\n",
       "      <td>26.0</td>\n",
       "      <td>0</td>\n",
       "      <td>0</td>\n",
       "      <td>7.9250</td>\n",
       "      <td>S</td>\n",
       "    </tr>\n",
       "    <tr>\n",
       "      <th>3</th>\n",
       "      <td>1</td>\n",
       "      <td>1</td>\n",
       "      <td>Futrelle, Mrs. Jacques Heath (Lily May Peel)</td>\n",
       "      <td>0</td>\n",
       "      <td>35.0</td>\n",
       "      <td>1</td>\n",
       "      <td>0</td>\n",
       "      <td>53.1000</td>\n",
       "      <td>S</td>\n",
       "    </tr>\n",
       "    <tr>\n",
       "      <th>4</th>\n",
       "      <td>0</td>\n",
       "      <td>3</td>\n",
       "      <td>Allen, Mr. William Henry</td>\n",
       "      <td>1</td>\n",
       "      <td>35.0</td>\n",
       "      <td>0</td>\n",
       "      <td>0</td>\n",
       "      <td>8.0500</td>\n",
       "      <td>S</td>\n",
       "    </tr>\n",
       "  </tbody>\n",
       "</table>\n",
       "</div>"
      ],
      "text/plain": [
       "   Survived  Pclass                                               Name  Sex  \\\n",
       "0         0       3                            Braund, Mr. Owen Harris    1   \n",
       "1         1       1  Cumings, Mrs. John Bradley (Florence Briggs Th...    0   \n",
       "2         1       3                             Heikkinen, Miss. Laina    0   \n",
       "3         1       1       Futrelle, Mrs. Jacques Heath (Lily May Peel)    0   \n",
       "4         0       3                           Allen, Mr. William Henry    1   \n",
       "\n",
       "    Age  SibSp  Parch     Fare Embarked  \n",
       "0  22.0      1      0   7.2500        S  \n",
       "1  38.0      1      0  71.2833        C  \n",
       "2  26.0      0      0   7.9250        S  \n",
       "3  35.0      1      0  53.1000        S  \n",
       "4  35.0      0      0   8.0500        S  "
      ]
     },
     "execution_count": 5,
     "metadata": {},
     "output_type": "execute_result"
    }
   ],
   "source": [
    "train = train.drop(['Ticket','Cabin','PassengerId'], axis=1)\n",
    "train = train.dropna() #drop rows with a NaN value\n",
    "train['Sex'] = train['Sex'].map({'male':1,'female':0}) \n",
    "train.head()"
   ]
  },
  {
   "cell_type": "markdown",
   "metadata": {
    "_cell_guid": "afbe88af-82ed-4f42-8176-bc1b8540321a",
    "_uuid": "f0e9612d496729435f6b57bd474292e5a4e51f71"
   },
   "source": [
    "### **2) Data visualization**\n",
    "\n",
    "Now we're going to have a look at our data using graphs using  **matplotlib** and **seaborn** :\n",
    "Let's start with our Survived feature distribution : "
   ]
  },
  {
   "cell_type": "code",
   "execution_count": 6,
   "metadata": {
    "_cell_guid": "7dae6b09-a556-4307-8cdf-66e0fc9c86a1",
    "_uuid": "69c51e32ae020932bbf4ca1cd7e587344466ea43",
    "collapsed": true
   },
   "outputs": [],
   "source": [
    "%matplotlib inline\n",
    "import matplotlib.pyplot as plt\n",
    "import seaborn as sns\n",
    "sns.set_style('white')"
   ]
  },
  {
   "cell_type": "markdown",
   "metadata": {
    "_cell_guid": "cdd41e05-b1ce-4465-8d49-8ef641e3f238",
    "_uuid": "26daee982ac3fb34763e40d62b1bf7cc2d6726d9"
   },
   "source": [
    "Let's start with our Survived feature distribution : "
   ]
  },
  {
   "cell_type": "code",
   "execution_count": 7,
   "metadata": {
    "_cell_guid": "5407caa2-a000-45bc-b9bb-f690ddd7abff",
    "_uuid": "2ca11677a757dcf358e0a8f4de5be459f63802d8"
   },
   "outputs": [
    {
     "data": {
      "image/png": "[encoded data removed]",
      "text/plain": [
       "<matplotlib.figure.Figure at 0x1e3af5e1fd0>"
      ]
     },
     "metadata": {},
     "output_type": "display_data"
    }
   ],
   "source": [
    "g = sns.countplot(\"Survived\", data = train)\n",
    "plt.title(\"Survived distribution on the dataset\")\n",
    "sns.plt.show()"
   ]
  },
  {
   "cell_type": "markdown",
   "metadata": {
    "_cell_guid": "0152c179-530f-44d4-85e0-432d60a64485",
    "_uuid": "3de4bd69790e20b47bbd44dbcb7d04527c14cf12"
   },
   "source": [
    "We can already see that in our dataset more people died than survived on the Titanic. \n",
    "\n",
    "Next we are going to create a **correlation heatmap**. Correlation is a statistical technique that is used to measure and describe the strength and direction of the relationship between two variables. "
   ]
  },
  {
   "cell_type": "code",
   "execution_count": 8,
   "metadata": {
    "_cell_guid": "4433662e-2762-4d61-9f64-fbd2f694990c",
    "_uuid": "e2025d2a35ec41f3c5f2e753780f6c47d5baf1ad"
   },
   "outputs": [
    {
     "data": {
      "image/png": "[encoded data removed]",
      "text/plain": [
       "<matplotlib.figure.Figure at 0x1e3af548898>"
      ]
     },
     "metadata": {},
     "output_type": "display_data"
    }
   ],
   "source": [
    "g = sns.heatmap(train.corr(), annot=True, fmt=\".2f\")\n",
    "plt.title(\"Heatmap of the correlations\")\n",
    "sns.plt.show()"
   ]
  },
  {
   "cell_type": "markdown",
   "metadata": {
    "_cell_guid": "44f00e34-2b3b-4511-898f-e8565936cd2d",
    "_uuid": "89f5b25aea620a9a54b413a7e7bd4383c66f4aba"
   },
   "source": [
    "Here we can see positive correlations between :\n",
    "* ** Survived and Fare **: People who paid more for their ticket tend to have a higher Survived rate.\n",
    "* **Parch and Sibsp** : Sibsp is the number of siblings +spouses and Parch is the number of parents and children so it makes sense that the 2 are correlated.\n",
    "* **Parch and Fare** : People who have a big family pay more for their ticket, because usually if you can afford to travel with a big family you can afford an expensive ticket.\n",
    "\n",
    "And negative correlations between :\n",
    "* **Survived and Sex** : Men have a Survived rate way lower than women, thus \"Women and child first!\"\n",
    "* **Survived and Pclass** : Our classes go from 1 to 3 with 3 being the cheapest and 1 the most expensive. Here a negative correlation means that people who are in the third class tend to have a lower Survived rate. \n",
    "* **Pclass and Fare** : The class is determined by the price of the ticket.\n",
    "* **Pclass and Age** : The older people tend to be in the most expensive classes.\n",
    "\n",
    "\n",
    "\n",
    "Let's have a more precize look of these features to confirm our insuptions : \n",
    "\n"
   ]
  },
  {
   "cell_type": "code",
   "execution_count": 9,
   "metadata": {
    "_cell_guid": "e1f1ee93-0053-4690-a586-e0f802ddb2d9",
    "_uuid": "1a1f20b4407b0a5bdd9cee5651e50b56e9fbf525"
   },
   "outputs": [
    {
     "data": {
      "image/png": "[encoded data removed]",
      "text/plain": [
       "<matplotlib.figure.Figure at 0x1e3af7ddfd0>"
      ]
     },
     "metadata": {},
     "output_type": "display_data"
    }
   ],
   "source": [
    "g = sns.factorplot(\"Pclass\",\"Survived\", hue=\"Sex\", kind = \"bar\", data=train, ci = None)\n",
    "plt.title(\"Survived rate based on class and sex\")\n",
    "sns.plt.show()"
   ]
  },
  {
   "cell_type": "code",
   "execution_count": 10,
   "metadata": {
    "_cell_guid": "d6eae1a0-637e-4858-a2c9-5a8781e312b9",
    "_uuid": "8ba34c3a0eb27215da7b7747ad5d558ec8723139"
   },
   "outputs": [
    {
     "data": {
      "image/png": "[encoded data removed]",
      "text/plain": [
       "<matplotlib.figure.Figure at 0x1e3b0c84668>"
      ]
     },
     "metadata": {},
     "output_type": "display_data"
    }
   ],
   "source": [
    "train.groupby('Pclass').mean()['Fare'].plot(kind='bar',figsize=(12,6))\n",
    "plt.title(\"Average fare for each class\")\n",
    "sns.plt.show()"
   ]
  },
  {
   "cell_type": "code",
   "execution_count": 11,
   "metadata": {
    "_cell_guid": "21674a6e-6b3b-4b59-86b1-982a36b7e879",
    "_uuid": "cbf6101f12ccb7e4016657b5c696991cbb3d9fce"
   },
   "outputs": [
    {
     "data": {
      "image/png": "[encoded data removed]",
      "text/plain": [
       "<matplotlib.figure.Figure at 0x1e3b0d5d3c8>"
      ]
     },
     "metadata": {},
     "output_type": "display_data"
    }
   ],
   "source": [
    "fig = sns.FacetGrid(train,hue='Pclass',aspect=4)\n",
    "fig.map(sns.kdeplot,'Age',shade=True)\n",
    "plt.title(\"Age distribution for each class\")\n",
    "fig.add_legend()\n",
    "sns.plt.show()"
   ]
  },
  {
   "cell_type": "markdown",
   "metadata": {
    "_cell_guid": "00a3316e-9d7f-4787-8ee5-c311b37fb04d",
    "_uuid": "80fd9118bc9e6bb44e0f1314951384e901004078",
    "collapsed": true
   },
   "source": [
    "Alright, we took a glance at the data and spotted some interesting correlations. However, we couldn't manage to analyze more complicated features like the names because these required further processing. This is why in the next part we'll focus on the ways to transform these features to fit our machine learning algorithms.\n",
    "\n",
    "\n",
    "\n",
    "## **FEATURE ENGINEERING**\n",
    "\n",
    "**Feature engineering** is the process of reshaping, transforming or creating new features based on the previous ones. We're going to do it on both data sets, so to save time we'll combine the train and test set together :"
   ]
  },
  {
   "cell_type": "code",
   "execution_count": 12,
   "metadata": {
    "_cell_guid": "a9f412aa-8cae-484e-bd46-a1412348cc94",
    "_uuid": "f8833a172d57b4f10664b3c062f3a8feb6aba8ce"
   },
   "outputs": [
    {
     "data": {
      "text/plain": [
       "(1309, 12)"
      ]
     },
     "execution_count": 12,
     "metadata": {},
     "output_type": "execute_result"
    }
   ],
   "source": [
    "train = pd.read_csv(\"C:\\\\Users\\\\Brian\\\\Documents\\\\cours\\\\train.csv\")\n",
    "test = pd.read_csv(\"C:\\\\Users\\\\Brian\\\\Documents\\\\cours\\\\test.csv\")\n",
    "\n",
    "data = train.append(test)\n",
    "data.shape"
   ]
  },
  {
   "cell_type": "code",
   "execution_count": 13,
   "metadata": {
    "_cell_guid": "eb76de51-8c69-4b18-8611-d9a00370a119",
    "_uuid": "f755e16642366a48c41c1372c71da7dc4b22d95e"
   },
   "outputs": [
    {
     "data": {
      "text/html": [
       "<div>\n",
       "<style>\n",
       "    .dataframe thead tr:only-child th {\n",
       "        text-align: right;\n",
       "    }\n",
       "\n",
       "    .dataframe thead th {\n",
       "        text-align: left;\n",
       "    }\n",
       "\n",
       "    .dataframe tbody tr th {\n",
       "        vertical-align: top;\n",
       "    }\n",
       "</style>\n",
       "<table border=\"1\" class=\"dataframe\">\n",
       "  <thead>\n",
       "    <tr style=\"text-align: right;\">\n",
       "      <th></th>\n",
       "      <th>Age</th>\n",
       "      <th>Cabin</th>\n",
       "      <th>Embarked</th>\n",
       "      <th>Fare</th>\n",
       "      <th>Name</th>\n",
       "      <th>Parch</th>\n",
       "      <th>PassengerId</th>\n",
       "      <th>Pclass</th>\n",
       "      <th>Sex</th>\n",
       "      <th>SibSp</th>\n",
       "      <th>Survived</th>\n",
       "      <th>Ticket</th>\n",
       "    </tr>\n",
       "  </thead>\n",
       "  <tbody>\n",
       "    <tr>\n",
       "      <th>count</th>\n",
       "      <td>1046.000000</td>\n",
       "      <td>295</td>\n",
       "      <td>1307</td>\n",
       "      <td>1308.000000</td>\n",
       "      <td>1309</td>\n",
       "      <td>1309.000000</td>\n",
       "      <td>1309.000000</td>\n",
       "      <td>1309.000000</td>\n",
       "      <td>1309</td>\n",
       "      <td>1309.000000</td>\n",
       "      <td>891.000000</td>\n",
       "      <td>1309</td>\n",
       "    </tr>\n",
       "    <tr>\n",
       "      <th>unique</th>\n",
       "      <td>NaN</td>\n",
       "      <td>186</td>\n",
       "      <td>3</td>\n",
       "      <td>NaN</td>\n",
       "      <td>1307</td>\n",
       "      <td>NaN</td>\n",
       "      <td>NaN</td>\n",
       "      <td>NaN</td>\n",
       "      <td>2</td>\n",
       "      <td>NaN</td>\n",
       "      <td>NaN</td>\n",
       "      <td>929</td>\n",
       "    </tr>\n",
       "    <tr>\n",
       "      <th>top</th>\n",
       "      <td>NaN</td>\n",
       "      <td>C23 C25 C27</td>\n",
       "      <td>S</td>\n",
       "      <td>NaN</td>\n",
       "      <td>Kelly, Mr. James</td>\n",
       "      <td>NaN</td>\n",
       "      <td>NaN</td>\n",
       "      <td>NaN</td>\n",
       "      <td>male</td>\n",
       "      <td>NaN</td>\n",
       "      <td>NaN</td>\n",
       "      <td>CA. 2343</td>\n",
       "    </tr>\n",
       "    <tr>\n",
       "      <th>freq</th>\n",
       "      <td>NaN</td>\n",
       "      <td>6</td>\n",
       "      <td>914</td>\n",
       "      <td>NaN</td>\n",
       "      <td>2</td>\n",
       "      <td>NaN</td>\n",
       "      <td>NaN</td>\n",
       "      <td>NaN</td>\n",
       "      <td>843</td>\n",
       "      <td>NaN</td>\n",
       "      <td>NaN</td>\n",
       "      <td>11</td>\n",
       "    </tr>\n",
       "    <tr>\n",
       "      <th>mean</th>\n",
       "      <td>29.881138</td>\n",
       "      <td>NaN</td>\n",
       "      <td>NaN</td>\n",
       "      <td>33.295479</td>\n",
       "      <td>NaN</td>\n",
       "      <td>0.385027</td>\n",
       "      <td>655.000000</td>\n",
       "      <td>2.294882</td>\n",
       "      <td>NaN</td>\n",
       "      <td>0.498854</td>\n",
       "      <td>0.383838</td>\n",
       "      <td>NaN</td>\n",
       "    </tr>\n",
       "    <tr>\n",
       "      <th>std</th>\n",
       "      <td>14.413493</td>\n",
       "      <td>NaN</td>\n",
       "      <td>NaN</td>\n",
       "      <td>51.758668</td>\n",
       "      <td>NaN</td>\n",
       "      <td>0.865560</td>\n",
       "      <td>378.020061</td>\n",
       "      <td>0.837836</td>\n",
       "      <td>NaN</td>\n",
       "      <td>1.041658</td>\n",
       "      <td>0.486592</td>\n",
       "      <td>NaN</td>\n",
       "    </tr>\n",
       "    <tr>\n",
       "      <th>min</th>\n",
       "      <td>0.170000</td>\n",
       "      <td>NaN</td>\n",
       "      <td>NaN</td>\n",
       "      <td>0.000000</td>\n",
       "      <td>NaN</td>\n",
       "      <td>0.000000</td>\n",
       "      <td>1.000000</td>\n",
       "      <td>1.000000</td>\n",
       "      <td>NaN</td>\n",
       "      <td>0.000000</td>\n",
       "      <td>0.000000</td>\n",
       "      <td>NaN</td>\n",
       "    </tr>\n",
       "    <tr>\n",
       "      <th>25%</th>\n",
       "      <td>21.000000</td>\n",
       "      <td>NaN</td>\n",
       "      <td>NaN</td>\n",
       "      <td>7.895800</td>\n",
       "      <td>NaN</td>\n",
       "      <td>0.000000</td>\n",
       "      <td>328.000000</td>\n",
       "      <td>2.000000</td>\n",
       "      <td>NaN</td>\n",
       "      <td>0.000000</td>\n",
       "      <td>0.000000</td>\n",
       "      <td>NaN</td>\n",
       "    </tr>\n",
       "    <tr>\n",
       "      <th>50%</th>\n",
       "      <td>28.000000</td>\n",
       "      <td>NaN</td>\n",
       "      <td>NaN</td>\n",
       "      <td>14.454200</td>\n",
       "      <td>NaN</td>\n",
       "      <td>0.000000</td>\n",
       "      <td>655.000000</td>\n",
       "      <td>3.000000</td>\n",
       "      <td>NaN</td>\n",
       "      <td>0.000000</td>\n",
       "      <td>0.000000</td>\n",
       "      <td>NaN</td>\n",
       "    </tr>\n",
       "    <tr>\n",
       "      <th>75%</th>\n",
       "      <td>39.000000</td>\n",
       "      <td>NaN</td>\n",
       "      <td>NaN</td>\n",
       "      <td>31.275000</td>\n",
       "      <td>NaN</td>\n",
       "      <td>0.000000</td>\n",
       "      <td>982.000000</td>\n",
       "      <td>3.000000</td>\n",
       "      <td>NaN</td>\n",
       "      <td>1.000000</td>\n",
       "      <td>1.000000</td>\n",
       "      <td>NaN</td>\n",
       "    </tr>\n",
       "    <tr>\n",
       "      <th>max</th>\n",
       "      <td>80.000000</td>\n",
       "      <td>NaN</td>\n",
       "      <td>NaN</td>\n",
       "      <td>512.329200</td>\n",
       "      <td>NaN</td>\n",
       "      <td>9.000000</td>\n",
       "      <td>1309.000000</td>\n",
       "      <td>3.000000</td>\n",
       "      <td>NaN</td>\n",
       "      <td>8.000000</td>\n",
       "      <td>1.000000</td>\n",
       "      <td>NaN</td>\n",
       "    </tr>\n",
       "  </tbody>\n",
       "</table>\n",
       "</div>"
      ],
      "text/plain": [
       "                Age        Cabin Embarked         Fare              Name  \\\n",
       "count   1046.000000          295     1307  1308.000000              1309   \n",
       "unique          NaN          186        3          NaN              1307   \n",
       "top             NaN  C23 C25 C27        S          NaN  Kelly, Mr. James   \n",
       "freq            NaN            6      914          NaN                 2   \n",
       "mean      29.881138          NaN      NaN    33.295479               NaN   \n",
       "std       14.413493          NaN      NaN    51.758668               NaN   \n",
       "min        0.170000          NaN      NaN     0.000000               NaN   \n",
       "25%       21.000000          NaN      NaN     7.895800               NaN   \n",
       "50%       28.000000          NaN      NaN    14.454200               NaN   \n",
       "75%       39.000000          NaN      NaN    31.275000               NaN   \n",
       "max       80.000000          NaN      NaN   512.329200               NaN   \n",
       "\n",
       "              Parch  PassengerId       Pclass   Sex        SibSp    Survived  \\\n",
       "count   1309.000000  1309.000000  1309.000000  1309  1309.000000  891.000000   \n",
       "unique          NaN          NaN          NaN     2          NaN         NaN   \n",
       "top             NaN          NaN          NaN  male          NaN         NaN   \n",
       "freq            NaN          NaN          NaN   843          NaN         NaN   \n",
       "mean       0.385027   655.000000     2.294882   NaN     0.498854    0.383838   \n",
       "std        0.865560   378.020061     0.837836   NaN     1.041658    0.486592   \n",
       "min        0.000000     1.000000     1.000000   NaN     0.000000    0.000000   \n",
       "25%        0.000000   328.000000     2.000000   NaN     0.000000    0.000000   \n",
       "50%        0.000000   655.000000     3.000000   NaN     0.000000    0.000000   \n",
       "75%        0.000000   982.000000     3.000000   NaN     1.000000    1.000000   \n",
       "max        9.000000  1309.000000     3.000000   NaN     8.000000    1.000000   \n",
       "\n",
       "          Ticket  \n",
       "count       1309  \n",
       "unique       929  \n",
       "top     CA. 2343  \n",
       "freq          11  \n",
       "mean         NaN  \n",
       "std          NaN  \n",
       "min          NaN  \n",
       "25%          NaN  \n",
       "50%          NaN  \n",
       "75%          NaN  \n",
       "max          NaN  "
      ]
     },
     "execution_count": 13,
     "metadata": {},
     "output_type": "execute_result"
    }
   ],
   "source": [
    "data.describe(include = \"all\")"
   ]
  },
  {
   "cell_type": "code",
   "execution_count": 14,
   "metadata": {
    "_cell_guid": "851f39de-e3c3-40de-a71f-0bf5ec294d7a",
    "_uuid": "8ce445b0c444146ae6ea982756887149805534e1"
   },
   "outputs": [
    {
     "name": "stdout",
     "output_type": "stream",
     "text": [
      "<class 'pandas.core.frame.DataFrame'>\n",
      "Int64Index: 1309 entries, 0 to 417\n",
      "Data columns (total 12 columns):\n",
      "Age            1046 non-null float64\n",
      "Cabin          295 non-null object\n",
      "Embarked       1307 non-null object\n",
      "Fare           1308 non-null float64\n",
      "Name           1309 non-null object\n",
      "Parch          1309 non-null int64\n",
      "PassengerId    1309 non-null int64\n",
      "Pclass         1309 non-null int64\n",
      "Sex            1309 non-null object\n",
      "SibSp          1309 non-null int64\n",
      "Survived       891 non-null float64\n",
      "Ticket         1309 non-null object\n",
      "dtypes: float64(3), int64(4), object(5)\n",
      "memory usage: 132.9+ KB\n"
     ]
    }
   ],
   "source": [
    "data.info()"
   ]
  },
  {
   "cell_type": "markdown",
   "metadata": {
    "_cell_guid": "84f7f406-6b0d-4b75-be50-8ddca343197e",
    "_uuid": "14d1fe629f7ac54aef650d5a9ab2ce3c9523bb43"
   },
   "source": [
    "For the same reason as mentionned at the begining, we're going to drop our useless / unusable features. We are also going to **drop the Survived feature** which is our **target** (= the feature we will try to predict with out model).  "
   ]
  },
  {
   "cell_type": "code",
   "execution_count": 15,
   "metadata": {
    "_cell_guid": "e14af905-7a14-406e-b425-9f783f6908d3",
    "_uuid": "e7291bce4f5e208cf3daa347dd9a1ceb93be0c2a",
    "collapsed": true
   },
   "outputs": [],
   "source": [
    "data = data.drop(['Survived','Ticket','Cabin','PassengerId'], axis=1)"
   ]
  },
  {
   "cell_type": "markdown",
   "metadata": {
    "_cell_guid": "87ac5402-ca8c-41f5-a3b0-d2fa37a2cb60",
    "_uuid": "4f33f8cec250abe9b0cece8ea053077d8ab0920a"
   },
   "source": [
    "### **Processing Name** :\n",
    "if we look closely at the Name feature, we can see that each name has title in it : for example \"Braund, Mr. Owen Harris\" has the title \"Mr\". We can group these title into categories  and create a new feature. \n",
    "\n",
    "So first, we're breaking each name using the first \",\" and the \".\" and extract the title. There's a lot of them so we then proceed to group them into 5 categories :\n",
    "* Officer\n",
    "* Royalty\n",
    "* Mrs\n",
    "* Miss\n",
    "* Master"
   ]
  },
  {
   "cell_type": "code",
   "execution_count": 16,
   "metadata": {
    "_cell_guid": "392ea45a-ab43-46bd-bf2b-2563a3909b86",
    "_uuid": "5717cc3a0afcfb9deb2edcd7a62e41d382e4dd97",
    "collapsed": true
   },
   "outputs": [],
   "source": [
    "def get_title(name):\n",
    "    if '.' in name:\n",
    "        return name.split(',')[1].split('.')[0].strip() #parse the name and return the title\n",
    "    else:\n",
    "        return 'Unknown'\n",
    "    \n",
    "Title_Map = {\n",
    "                        \"Capt\":       \"Officer\",\n",
    "                        \"Col\":        \"Officer\",\n",
    "                        \"Major\":      \"Officer\",   #map of the titles\n",
    "                        \"Jonkheer\":   \"Royalty\",\n",
    "                        \"Don\":        \"Royalty\",\n",
    "                        \"Sir\" :       \"Royalty\",\n",
    "                        \"Dr\":         \"Officer\",\n",
    "                        \"Rev\":        \"Officer\",\n",
    "                        \"the Countess\":\"Royalty\",\n",
    "                        \"Dona\":       \"Royalty\",\n",
    "                        \"Mme\":        \"Mrs\",\n",
    "                        \"Mlle\":       \"Miss\",\n",
    "                        \"Ms\":         \"Mrs\",\n",
    "                        \"Mr\" :        \"Mr\",\n",
    "                        \"Mrs\" :       \"Mrs\",\n",
    "                        \"Miss\" :      \"Miss\",\n",
    "                        \"Master\" :    \"Master\",\n",
    "                        \"Lady\" :      \"Royalty\"\n",
    "\n",
    "                        }\n",
    "    \n",
    "data[\"Title\"] = data[\"Name\"].apply(get_title).map(Title_Map) #create new column Title from the name"
   ]
  },
  {
   "cell_type": "markdown",
   "metadata": {
    "_cell_guid": "dd6d1956-f63a-4264-b2a8-f0503ee58973",
    "_uuid": "1e24caf8f31101c6c04ef1dd8437af225a2a12aa"
   },
   "source": [
    "We now have a **Title** for each of our passenger. \n",
    "\n",
    "\n",
    "### **Processing Age :** \n",
    "We're missing a lot of value for our Age feature and we can't just drop these rows because it would hurt our model accuracy to much. We could just use the mean or the median of all the ages but we can do better here.\n",
    "We can group our passengers by sex, class and our newly created feature title and get the median age of each group, and then replace our missing values based on the other features for each passenger\n"
   ]
  },
  {
   "cell_type": "code",
   "execution_count": 17,
   "metadata": {
    "_cell_guid": "a410b07d-51c6-4d86-9b3e-bb4cd6b3c1a6",
    "_uuid": "bc70643a2ab4856f20559d48395579e78c9122ed"
   },
   "outputs": [
    {
     "name": "stdout",
     "output_type": "stream",
     "text": [
      "<class 'pandas.core.frame.DataFrame'>\n",
      "Int64Index: 1309 entries, 0 to 417\n",
      "Data columns (total 9 columns):\n",
      "Age         1309 non-null float64\n",
      "Embarked    1307 non-null object\n",
      "Fare        1308 non-null float64\n",
      "Name        1309 non-null object\n",
      "Parch       1309 non-null int64\n",
      "Pclass      1309 non-null int64\n",
      "Sex         1309 non-null object\n",
      "SibSp       1309 non-null int64\n",
      "Title       1309 non-null object\n",
      "dtypes: float64(2), int64(3), object(4)\n",
      "memory usage: 102.3+ KB\n"
     ]
    }
   ],
   "source": [
    "data[\"Age\"] = data.groupby(['Sex','Pclass','Title'])['Age'].transform(lambda x: x.fillna(x.median()))\n",
    "data.info()"
   ]
  },
  {
   "cell_type": "markdown",
   "metadata": {
    "_cell_guid": "0b87e8d6-6c4d-4305-a5f6-1fc6d726b44c",
    "_uuid": "f0806a10f58cb5830864a5e8b3f99fe4c65c1b8b"
   },
   "source": [
    "\n",
    "\n",
    "\n",
    "\n",
    "### **Processing Title :**\n",
    "\n",
    "Models usually need  numerical variables, this is why when we have categorical parameters we need to transform them.\n",
    "One way to do it is with dummy encoding. For example here we have one categorical feature \"Title\" with 5 categories as strings. The function pd.get_dummies will create a column for each category and fill it with 0 and 1, 1 meaning that the passenger is in this category."
   ]
  },
  {
   "cell_type": "code",
   "execution_count": 18,
   "metadata": {
    "_cell_guid": "ce33a213-3c72-4d56-b178-6f68542c2c10",
    "_uuid": "97fdcba145f65843caf1f9f5f4a21791b97333dd"
   },
   "outputs": [
    {
     "data": {
      "text/html": [
       "<div>\n",
       "<style>\n",
       "    .dataframe thead tr:only-child th {\n",
       "        text-align: right;\n",
       "    }\n",
       "\n",
       "    .dataframe thead th {\n",
       "        text-align: left;\n",
       "    }\n",
       "\n",
       "    .dataframe tbody tr th {\n",
       "        vertical-align: top;\n",
       "    }\n",
       "</style>\n",
       "<table border=\"1\" class=\"dataframe\">\n",
       "  <thead>\n",
       "    <tr style=\"text-align: right;\">\n",
       "      <th></th>\n",
       "      <th>Age</th>\n",
       "      <th>Embarked</th>\n",
       "      <th>Fare</th>\n",
       "      <th>Parch</th>\n",
       "      <th>Pclass</th>\n",
       "      <th>Sex</th>\n",
       "      <th>SibSp</th>\n",
       "      <th>Title</th>\n",
       "      <th>Title_Master</th>\n",
       "      <th>Title_Miss</th>\n",
       "      <th>Title_Mr</th>\n",
       "      <th>Title_Mrs</th>\n",
       "      <th>Title_Officer</th>\n",
       "      <th>Title_Royalty</th>\n",
       "    </tr>\n",
       "  </thead>\n",
       "  <tbody>\n",
       "    <tr>\n",
       "      <th>0</th>\n",
       "      <td>22.0</td>\n",
       "      <td>S</td>\n",
       "      <td>7.2500</td>\n",
       "      <td>0</td>\n",
       "      <td>3</td>\n",
       "      <td>male</td>\n",
       "      <td>1</td>\n",
       "      <td>Mr</td>\n",
       "      <td>0</td>\n",
       "      <td>0</td>\n",
       "      <td>1</td>\n",
       "      <td>0</td>\n",
       "      <td>0</td>\n",
       "      <td>0</td>\n",
       "    </tr>\n",
       "    <tr>\n",
       "      <th>1</th>\n",
       "      <td>38.0</td>\n",
       "      <td>C</td>\n",
       "      <td>71.2833</td>\n",
       "      <td>0</td>\n",
       "      <td>1</td>\n",
       "      <td>female</td>\n",
       "      <td>1</td>\n",
       "      <td>Mrs</td>\n",
       "      <td>0</td>\n",
       "      <td>0</td>\n",
       "      <td>0</td>\n",
       "      <td>1</td>\n",
       "      <td>0</td>\n",
       "      <td>0</td>\n",
       "    </tr>\n",
       "    <tr>\n",
       "      <th>2</th>\n",
       "      <td>26.0</td>\n",
       "      <td>S</td>\n",
       "      <td>7.9250</td>\n",
       "      <td>0</td>\n",
       "      <td>3</td>\n",
       "      <td>female</td>\n",
       "      <td>0</td>\n",
       "      <td>Miss</td>\n",
       "      <td>0</td>\n",
       "      <td>1</td>\n",
       "      <td>0</td>\n",
       "      <td>0</td>\n",
       "      <td>0</td>\n",
       "      <td>0</td>\n",
       "    </tr>\n",
       "    <tr>\n",
       "      <th>3</th>\n",
       "      <td>35.0</td>\n",
       "      <td>S</td>\n",
       "      <td>53.1000</td>\n",
       "      <td>0</td>\n",
       "      <td>1</td>\n",
       "      <td>female</td>\n",
       "      <td>1</td>\n",
       "      <td>Mrs</td>\n",
       "      <td>0</td>\n",
       "      <td>0</td>\n",
       "      <td>0</td>\n",
       "      <td>1</td>\n",
       "      <td>0</td>\n",
       "      <td>0</td>\n",
       "    </tr>\n",
       "    <tr>\n",
       "      <th>4</th>\n",
       "      <td>35.0</td>\n",
       "      <td>S</td>\n",
       "      <td>8.0500</td>\n",
       "      <td>0</td>\n",
       "      <td>3</td>\n",
       "      <td>male</td>\n",
       "      <td>0</td>\n",
       "      <td>Mr</td>\n",
       "      <td>0</td>\n",
       "      <td>0</td>\n",
       "      <td>1</td>\n",
       "      <td>0</td>\n",
       "      <td>0</td>\n",
       "      <td>0</td>\n",
       "    </tr>\n",
       "  </tbody>\n",
       "</table>\n",
       "</div>"
      ],
      "text/plain": [
       "    Age Embarked     Fare  Parch  Pclass     Sex  SibSp Title  Title_Master  \\\n",
       "0  22.0        S   7.2500      0       3    male      1    Mr             0   \n",
       "1  38.0        C  71.2833      0       1  female      1   Mrs             0   \n",
       "2  26.0        S   7.9250      0       3  female      0  Miss             0   \n",
       "3  35.0        S  53.1000      0       1  female      1   Mrs             0   \n",
       "4  35.0        S   8.0500      0       3    male      0    Mr             0   \n",
       "\n",
       "   Title_Miss  Title_Mr  Title_Mrs  Title_Officer  Title_Royalty  \n",
       "0           0         1          0              0              0  \n",
       "1           0         0          1              0              0  \n",
       "2           1         0          0              0              0  \n",
       "3           0         0          1              0              0  \n",
       "4           0         1          0              0              0  "
      ]
     },
     "execution_count": 18,
     "metadata": {},
     "output_type": "execute_result"
    }
   ],
   "source": [
    "titles_dummies = pd.get_dummies(data['Title'],prefix='Title') #creating the new columns \n",
    "data = pd.concat([data,titles_dummies],axis=1) #adding them to the data frame\n",
    "\n",
    "data.drop(\"Name\", axis=1, inplace = True) #we don't need Name anymore so we drop it\n",
    "data.head()"
   ]
  },
  {
   "cell_type": "markdown",
   "metadata": {
    "_cell_guid": "12832c50-ee0c-4833-ac3a-d34d9c4a6834",
    "_uuid": "d0beeb0fad88f6ab767636aca7f5bbe2044e62e8"
   },
   "source": [
    "### **Processing Fare : **\n",
    "We have a few missing values here to we're just going to fill them with the mean"
   ]
  },
  {
   "cell_type": "code",
   "execution_count": 19,
   "metadata": {
    "_cell_guid": "dbe53d9b-5fa7-464b-882b-967534152b29",
    "_uuid": "cf78f0dfbd1f29a59f601a356bd0ff6b7bd72868",
    "collapsed": true
   },
   "outputs": [],
   "source": [
    "data.Fare.fillna(data.Fare.mean(), inplace=True)"
   ]
  },
  {
   "cell_type": "markdown",
   "metadata": {
    "_cell_guid": "87d5d3c4-5a37-4bde-bc6a-9c172ce92467",
    "_uuid": "75d388af083e65f11fb70b4662de88affd719bf1"
   },
   "source": [
    "### **Processing Embarked :**\n",
    "We also have a few missing values so we're going to replace it with the most frequent one : S, and then get the dummy columns."
   ]
  },
  {
   "cell_type": "code",
   "execution_count": 20,
   "metadata": {
    "_cell_guid": "96657d01-a132-4ae2-a7ca-8d9a7756a309",
    "_uuid": "f92b9dec346e3001765b84160c7199dfbcf450af",
    "collapsed": true
   },
   "outputs": [],
   "source": [
    "data.Embarked.fillna('S', inplace=True)\n",
    "Embarked_dummies = pd.get_dummies(data['Embarked'],prefix='Embarked')\n",
    "data = pd.concat([data,Embarked_dummies],axis=1)"
   ]
  },
  {
   "cell_type": "markdown",
   "metadata": {
    "_cell_guid": "46e28a31-d30f-45b1-9919-8c19e9e29f8e",
    "_uuid": "43c7924233ea9d558cacead5d4af21ad404d2db8"
   },
   "source": [
    "### **Processing Parch and Sibsp :**\n",
    "We're going to use Parch and Sibsp  to create a new one called \"Familysize\" that will basicly be the addition of these 2 features plus the passenger.\n",
    "Then we will break it into 3 categories : singleton (passenger alone), small family and large family."
   ]
  },
  {
   "cell_type": "code",
   "execution_count": 21,
   "metadata": {
    "_cell_guid": "9c89920c-8d8d-4873-b68a-6d6c690ec813",
    "_uuid": "46ed010478ebfe6b4f1bb3fac5edc9e443c71c2d",
    "collapsed": true
   },
   "outputs": [],
   "source": [
    "data['FamilySize'] = data['Parch'] + data['SibSp'] + 1\n",
    "\n",
    "data['Singleton'] = data['FamilySize'].map(lambda s: 1 if s == 1 else 0)\n",
    "data['SmallFamily'] = data['FamilySize'].map(lambda s: 1 if 2<=s<=4 else 0)\n",
    "data['LargeFamily'] = data['FamilySize'].map(lambda s: 1 if 5<=s else 0)"
   ]
  },
  {
   "cell_type": "markdown",
   "metadata": {
    "_cell_guid": "8bc57996-e34c-4275-b4b0-5656c3023223",
    "_uuid": "46c7981fb2a873bf5b997ce15ca4ef076c19b5fd"
   },
   "source": [
    "### **Processing Sex :**\n",
    "Here we're just going to transform our strings into a numerical variable."
   ]
  },
  {
   "cell_type": "code",
   "execution_count": 22,
   "metadata": {
    "_cell_guid": "7e90dd7a-52cf-40cb-85bf-4c7038ae86a8",
    "_uuid": "b69ff3fa037c3488544f31aaa76da12eef586274",
    "collapsed": true
   },
   "outputs": [],
   "source": [
    "data['Sex'] = data['Sex'].map({'male':1,'female':0})"
   ]
  },
  {
   "cell_type": "markdown",
   "metadata": {
    "_cell_guid": "eab07305-1710-49ff-b91f-e52d2a5b6929",
    "_uuid": "2465871517df6d3619b660772e69bb2e57a56caf"
   },
   "source": [
    "### Processing Pclass : \n",
    "Just dummy encoding our feature."
   ]
  },
  {
   "cell_type": "code",
   "execution_count": 23,
   "metadata": {
    "_cell_guid": "e6225ad1-0450-4426-96ca-ef6e32149a5c",
    "_uuid": "173b75fd377efe9f887535b1361ec4b9c921a14f",
    "collapsed": true
   },
   "outputs": [],
   "source": [
    "pclass_dummies = pd.get_dummies(data['Pclass'], prefix=\"Pclass\") \n",
    "data = pd.concat([data,pclass_dummies],axis=1)\n"
   ]
  },
  {
   "cell_type": "markdown",
   "metadata": {
    "_cell_guid": "dcf6d105-c254-4a98-a1b4-bda2e8cc1109",
    "_uuid": "8026ea3559a1735d8e4ab6675bb772648b206170"
   },
   "source": [
    "Alright, we're almost there. Now we're going to **drop** the old features that are useless now"
   ]
  },
  {
   "cell_type": "code",
   "execution_count": 24,
   "metadata": {
    "_cell_guid": "8ec3d86a-1430-4e58-81d1-37b93842b47d",
    "_uuid": "d0aceedeb37d97a4579bf3e3a1b41b6b7e5ddd01"
   },
   "outputs": [
    {
     "data": {
      "text/plain": [
       "(1309, 21)"
      ]
     },
     "execution_count": 24,
     "metadata": {},
     "output_type": "execute_result"
    }
   ],
   "source": [
    "data.drop(['Pclass','Embarked','Title'],axis=1,inplace=True)\n",
    "data.shape"
   ]
  },
  {
   "cell_type": "markdown",
   "metadata": {
    "_cell_guid": "b4fc3b8c-3a5c-4fa1-b5c6-ba1d9f10491c",
    "_uuid": "6213ebef837507729bee1f88a775ff880c1d19e9"
   },
   "source": [
    "## **MODELING**\n",
    "\n",
    "This is the exciting part where we are going to **make predictions** using our data. The first thing we want to do is **splitting** back our data into a train set and a test set. It is a crucial part because we need a way to evaluate our modele at the end to get a score for Kaggle.\n",
    "\n",
    "\n"
   ]
  },
  {
   "cell_type": "code",
   "execution_count": 25,
   "metadata": {
    "_cell_guid": "93bdd16a-8bd7-43b4-9716-e25072c1b78a",
    "_uuid": "1449283913050c53ccbdf6ccbaecff18113e16e3",
    "collapsed": true
   },
   "outputs": [],
   "source": [
    "train0 = pd.read_csv(\"C:\\\\Users\\\\Brian\\\\Documents\\\\cours\\\\train.csv\")\n",
    "\n",
    "targets = train0.Survived\n",
    "train = data.head(891) #when we created our data set \"data\" we basicly put our test dataframe at \n",
    "                       #the end of the train one, so we can split it just by selecting the values before 891  \n",
    "test = data.iloc[891:]\n"
   ]
  },
  {
   "cell_type": "markdown",
   "metadata": {
    "_cell_guid": "7f5001d0-ff10-41c2-8ba4-1651bc01bf48",
    "_uuid": "00ba6f54f2d2c93448d46baa9b445884d1dd3768"
   },
   "source": [
    "Alright so here we have a **classification** problem : we're trying to predict a **categorical response** \"Suvived\" which is translated into a 0 or a 1. There are many classification modeles we can use with the **Scikit-learn** package but first we need a way to **evaluate** our modele performance.\n",
    "\n",
    "Since we can't test our modele on the same data it was trained, we have to split our train dataframe again. It might be confusing but to clarify : we first split train and set only for the Kaggle challenge score and then we do it to evaluate the modele for ourselves.\n",
    "\n",
    "We're going to use **cross validation** from Sklearn : "
   ]
  },
  {
   "cell_type": "code",
   "execution_count": 26,
   "metadata": {
    "_cell_guid": "fa163362-663d-4e41-a0f2-c5967db8d8fc",
    "_uuid": "2b8ac74aabbb7925b4624eec7324e39920368dff",
    "collapsed": true
   },
   "outputs": [],
   "source": [
    "from sklearn.model_selection import cross_val_score #import the function from sklearn\n",
    "def compute_score(classifier, X, y, scoring='accuracy'):\n",
    "    xval = cross_val_score(classifier, X, y, cv = 5, scoring=scoring)\n",
    "    #cv stands for cross validation : the number of time we're going to split our data and test it.\n",
    "    return np.mean(xval) #return the mean of the 5 scores"
   ]
  },
  {
   "cell_type": "markdown",
   "metadata": {
    "_cell_guid": "5d0973dd-1f3c-466b-a922-aab1bf336f83",
    "_uuid": "17d9f328ac31553d4c14dbc21a483ce3ecb215ea"
   },
   "source": [
    "Now that we have our tool to evaluate our model, let's start with one of the simplest classification model : **KNN**. You can learn more about KNN here : http://scikit-learn.org/stable/modules/neighbors.html\n",
    "\n",
    "First we import the model from Sklearn.neighbors, then make an instance of our estimator (=model). This is where we enter the **parameters** we want, here we're going to select K=1"
   ]
  },
  {
   "cell_type": "code",
   "execution_count": 27,
   "metadata": {
    "_cell_guid": "180a9d84-4e59-493e-b303-72c904102966",
    "_uuid": "5fea7bcf737d6ef4317ca8366a5fee3153d8c9b9"
   },
   "outputs": [
    {
     "data": {
      "text/plain": [
       "KNeighborsClassifier(algorithm='auto', leaf_size=30, metric='minkowski',\n",
       "           metric_params=None, n_jobs=1, n_neighbors=1, p=2,\n",
       "           weights='uniform')"
      ]
     },
     "execution_count": 27,
     "metadata": {},
     "output_type": "execute_result"
    }
   ],
   "source": [
    "from sklearn.neighbors import KNeighborsClassifier\n",
    "knn = KNeighborsClassifier(n_neighbors=1)\n",
    "knn"
   ]
  },
  {
   "cell_type": "markdown",
   "metadata": {
    "_cell_guid": "845f3481-a802-472e-b56c-a623c2c09a18",
    "_uuid": "a4aab9c2a12884448da02bd145ebe1579fc9e1cb"
   },
   "source": [
    "Alright now we **fit** the model on our data and use our compute_score to get an accuracy score"
   ]
  },
  {
   "cell_type": "code",
   "execution_count": 28,
   "metadata": {
    "_cell_guid": "fdecbed8-c33d-4a24-83d7-1e04e36e0d8d",
    "_uuid": "d14fdc170e81fd0fa739b1c604c350b5538ac95c"
   },
   "outputs": [
    {
     "data": {
      "text/plain": [
       "0.69029802605657808"
      ]
     },
     "execution_count": 28,
     "metadata": {},
     "output_type": "execute_result"
    }
   ],
   "source": [
    "knn.fit(train,targets) #feeding the model with data\n",
    "knn_score = compute_score(knn,train,targets) #evaluating the model with our function\n",
    "knn_score"
   ]
  },
  {
   "cell_type": "markdown",
   "metadata": {
    "_cell_guid": "a7f7ff35-2863-4d84-9879-088366654c84",
    "_uuid": "8f39e371f5ef90cb46e7bf0cf0ac45c7affca741"
   },
   "source": [
    "This is our result for K=1.\n",
    "Now let's try for different values of K with a for loop."
   ]
  },
  {
   "cell_type": "code",
   "execution_count": 29,
   "metadata": {
    "_cell_guid": "aa0a7678-a9b9-4e9a-8b7f-4bb3c1c7ddb7",
    "_uuid": "d8bc5140ca3cd2cb801182dca9de1c88091b83e0"
   },
   "outputs": [
    {
     "name": "stdout",
     "output_type": "stream",
     "text": [
      "[0.69029802605657808, 0.69808794068488145, 0.71951849554594016, 0.71165974593116421, 0.71280837878889436, 0.70491182490024962, 0.70271477952058081, 0.70267055632216191, 0.70046109865745176, 0.69597955448407978, 0.70496204145915997, 0.69934399300372685, 0.70720930339773891, 0.70943766319938351, 0.71059906297887043, 0.72068631424997709, 0.71619179037281888, 0.72403812770255338, 0.72963748680308116, 0.72963741587573805, 0.73188453595963099, 0.73074203831707851, 0.73074831538694229, 0.7184139440319427, 0.7150619887246803, 0.70832027383628626, 0.71506191779733708, 0.7161477090290862, 0.71283348706834959, 0.71278940572461669]\n"
     ]
    }
   ],
   "source": [
    "k_range = list(range(1, 31))\n",
    "k_scores = []\n",
    "for k in k_range:\n",
    "    knn = KNeighborsClassifier(n_neighbors=k)\n",
    "    scores = compute_score(knn, train,targets)\n",
    "    k_scores.append(scores.mean())\n",
    "print(k_scores)"
   ]
  },
  {
   "cell_type": "markdown",
   "metadata": {
    "_cell_guid": "0cb91cc2-a145-4377-b4d0-b0f297bda96e",
    "_uuid": "65800b71f9f2329d21fd52fc4ab44d43508ecee2"
   },
   "source": [
    "We plot our results :"
   ]
  },
  {
   "cell_type": "code",
   "execution_count": 30,
   "metadata": {
    "_cell_guid": "7912f51c-1ef4-4eaf-acd0-ed52af355580",
    "_uuid": "64565a146ff9cb709cb1b1c3bf3eec84b089c891"
   },
   "outputs": [
    {
     "data": {
      "text/plain": [
       "<matplotlib.text.Text at 0x1e3b1249f60>"
      ]
     },
     "execution_count": 30,
     "metadata": {},
     "output_type": "execute_result"
    },
    {
     "data": {
      "image/png": "[encoded data removed]",
      "text/plain": [
       "<matplotlib.figure.Figure at 0x1e3b11fce48>"
      ]
     },
     "metadata": {},
     "output_type": "display_data"
    }
   ],
   "source": [
    "plt.plot(k_range, k_scores)\n",
    "plt.xlabel('Value of K for KNN')\n",
    "plt.ylabel('Cross-Validated Accuracy')"
   ]
  },
  {
   "cell_type": "markdown",
   "metadata": {
    "_cell_guid": "a5453084-0010-44f5-a2bc-22887d32b039",
    "_uuid": "b68107281e93ebdc2311b2ceefe8d74537161bf7"
   },
   "source": [
    "We can see that the best accuracy with this model is with **K=21**.\n",
    "\n",
    "There's a tool we can use to test every **combination** for each **parameters** and find the best one : **GridSearchCV**. We feed it with the map of parameters we want it to test and then fit our data."
   ]
  },
  {
   "cell_type": "code",
   "execution_count": 31,
   "metadata": {
    "_cell_guid": "6fbe0944-2274-4084-8907-82113afceea7",
    "_uuid": "071d1cca65322d3fc1b7a01b9d8cf0e58d2b7898"
   },
   "outputs": [
    {
     "name": "stderr",
     "output_type": "stream",
     "text": [
      "C:\\Users\\Brian\\Anaconda3\\lib\\site-packages\\sklearn\\cross_validation.py:44: DeprecationWarning: This module was deprecated in version 0.18 in favor of the model_selection module into which all the refactored classes and functions are moved. Also note that the interface of the new CV iterators are different from that of this module. This module will be removed in 0.20.\n",
      "  \"This module will be removed in 0.20.\", DeprecationWarning)\n",
      "C:\\Users\\Brian\\Anaconda3\\lib\\site-packages\\sklearn\\grid_search.py:43: DeprecationWarning: This module was deprecated in version 0.18 in favor of the model_selection module into which all the refactored classes and functions are moved. This module will be removed in 0.20.\n",
      "  DeprecationWarning)\n"
     ]
    },
    {
     "data": {
      "text/plain": [
       "<matplotlib.text.Text at 0x1e3b13544a8>"
      ]
     },
     "execution_count": 31,
     "metadata": {},
     "output_type": "execute_result"
    },
    {
     "data": {
      "image/png": "[encoded data removed]",
      "text/plain": [
       "<matplotlib.figure.Figure at 0x1e3b1269588>"
      ]
     },
     "metadata": {},
     "output_type": "display_data"
    }
   ],
   "source": [
    "from sklearn.grid_search import GridSearchCV #import gridsearch\n",
    "k_range = list(range(1, 31)) \n",
    "param_grid = dict(n_neighbors=k_range) #define the map(=parameters we want to try)\n",
    "grid = GridSearchCV(knn, param_grid, cv=5, scoring='accuracy') \n",
    "grid.fit(train, targets)\n",
    "\n",
    "grid_mean_scores = [result.mean_validation_score for result in grid.grid_scores_]\n",
    "plt.plot(k_range, grid_mean_scores)\n",
    "plt.xlabel('Value of K for KNN')\n",
    "plt.ylabel('Cross-Validated Accuracy')"
   ]
  },
  {
   "cell_type": "markdown",
   "metadata": {
    "_cell_guid": "24594b49-347c-4d97-b50e-fd9002079853",
    "_uuid": "d4b63e7acc0954f1c17a1a357f746afb36d05cfc"
   },
   "source": [
    "We notice that this plot is the same as the previous one.\n",
    "\n",
    "\n",
    "Alright now let's try a more complex model : **Random forest classifier**. Random forest uses decision trees. You can learn more about it here : https://www.stat.berkeley.edu/~breiman/RandomForests/cc_home.htm\n",
    "\n",
    "Let's try it with the basic parameters : "
   ]
  },
  {
   "cell_type": "code",
   "execution_count": 32,
   "metadata": {
    "_cell_guid": "fcf7c9fc-8c8d-4fb0-b894-032857030573",
    "_uuid": "f894824e07832d5faf4c7911f1fd110abbe6a60d"
   },
   "outputs": [
    {
     "data": {
      "text/plain": [
       "0.78789497220889371"
      ]
     },
     "execution_count": 32,
     "metadata": {},
     "output_type": "execute_result"
    }
   ],
   "source": [
    "from sklearn.ensemble import RandomForestClassifier\n",
    "\n",
    "rdc = RandomForestClassifier()\n",
    "rdc.fit(train,targets)\n",
    "rdc_score = compute_score(rdc,train,targets,scoring='accuracy')\n",
    "rdc_score"
   ]
  },
  {
   "cell_type": "markdown",
   "metadata": {
    "_cell_guid": "234e2da3-4399-498d-a84c-c3846e195930",
    "_uuid": "e6a73a976a7a90a55a69c657b5e1e65cfd0c424c"
   },
   "source": [
    "Now we use **GridSearchCV** to find the best combination of parameters. It takes some time to run so I've put the code in an If statement, you don't have to run it, the result is below."
   ]
  },
  {
   "cell_type": "code",
   "execution_count": 33,
   "metadata": {
    "_cell_guid": "b2d0a26f-75da-4a2f-a7a6-ea81cc7045dc",
    "_uuid": "9e47e01db75be3a3558b329b05cbd429563de271",
    "collapsed": true
   },
   "outputs": [],
   "source": [
    "run_grid = False\n",
    "if run_grid :\n",
    "    param_grid = {'max_depth' : [4, 6, 8],      # map of the parameters we want to try\n",
    "                 'n_estimators': [50, 10],\n",
    "                 'max_features': ['sqrt', 'auto', 'log2'],\n",
    "                 'min_samples_split': [2, 3, 10],\n",
    "                 'min_samples_leaf': [1, 3, 10],\n",
    "                 'bootstrap': [True, False],}\n",
    "    grid = GridSearchCV(rdc, param_grid, cv=10, scoring='accuracy')\n",
    "    grid.fit(train, targets)\n",
    "    grid_mean_scores = [result.mean_validation_score for result in grid.grid_scores_]\n",
    "    model = grid\n",
    "    parameters = grid.best_params_ \n",
    "    print(grid.best_score_)\n",
    "    print(grid.best_params_)\n",
    "else : \n",
    "    parameters = {'bootstrap': False, 'max_depth': 6, 'max_features': 'auto', 'min_samples_leaf': 3,\n",
    "              'min_samples_split': 3, 'n_estimators': 10}\n",
    "    model = RandomForestClassifier(**parameters)\n",
    "    model.fit(train,targets)"
   ]
  },
  {
   "cell_type": "code",
   "execution_count": 34,
   "metadata": {
    "_cell_guid": "a60f708d-6573-43f2-8ac0-208a975fe70b",
    "_uuid": "92cfee35259d4a48bf2f6e78e3295760bc367271"
   },
   "outputs": [
    {
     "data": {
      "text/plain": [
       "0.81820779370924102"
      ]
     },
     "execution_count": 34,
     "metadata": {},
     "output_type": "execute_result"
    }
   ],
   "source": [
    "rfc_score = compute_score(model, train, targets, scoring='accuracy')\n",
    "rfc_score"
   ]
  },
  {
   "cell_type": "markdown",
   "metadata": {
    "_cell_guid": "18cd47df-4f6a-4032-8f95-cc030ac0dc9f",
    "_uuid": "c30467c2dee4d01bb029426120fc53230a80b410"
   },
   "source": [
    "That's better! This number is relative to the problem so we can't say if it is good or bad. The goal of a data scientist is to improve this result. Also we only evaluated the accuracy metric here but there are many others for a classification problem (confusion matrix).\n",
    "The next step here would be to evaluate the model with the test set from Kaggle, export it on a csv file and send it to Kaggle.\n",
    "\n",
    "To improve the result we could go deeper and :\n",
    "- create new features\n",
    "- try different models such as Gradient Boosted trees, XGboost etc\n",
    "\n",
    "Thanks for reading!"
   ]
  }
 ],
 "metadata": {
  "kernelspec": {
   "display_name": "Python 3",
   "language": "python",
   "name": "python3"
  },
  "language_info": {
   "codemirror_mode": {
    "name": "ipython",
    "version": 3
   },
   "file_extension": ".py",
   "mimetype": "text/x-python",
   "name": "python",
   "nbconvert_exporter": "python",
   "pygments_lexer": "ipython3",
   "version": "3.6.1"
  }
 },
 "nbformat": 4,
 "nbformat_minor": 1
}
